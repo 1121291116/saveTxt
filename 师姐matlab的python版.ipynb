{
 "cells": [
  {
   "cell_type": "markdown",
   "metadata": {},
   "source": [
    "# matlab代码"
   ]
  },
  {
   "attachments": {
    "image.png": {
     "image/png": "[encoded data removed]"
    }
   },
   "cell_type": "markdown",
   "metadata": {},
   "source": [
    "矩阵相乘：np.dot(): 如果是数组相乘，则返回两个数组的乘积； 如果是二维数组相乘，则返回矩阵乘\n",
    "![image.png](attachment:image.png)\n",
    "矩阵对应相乘：np.multipy()"
   ]
  },
  {
   "cell_type": "code",
   "execution_count": 4,
   "metadata": {},
   "outputs": [],
   "source": [
    "import numpy as np\n",
    "import matplotlib.pyplot as plt\n",
    "import json"
   ]
  },
  {
   "cell_type": "code",
   "execution_count": 14,
   "metadata": {},
   "outputs": [
    {
     "name": "stdout",
     "output_type": "stream",
     "text": [
      "[[   -1.        48.633    985.2365 21746.3859 42756.7402  1087.3193]\n",
      " [   -0.9       48.6901   984.1829 21799.6471 42810.1666  1089.9824]\n",
      " [   -0.8       48.7451   983.1674 21851.0419 42861.6591  1092.5521]\n",
      " [   -0.7       48.7981   982.188  21900.6667 42911.3208  1095.0333]\n",
      " [   -0.6       48.8493   981.2429 21948.6112 42959.2477  1097.4306]\n",
      " [   -0.5       48.8988   980.3301 21994.9594 43005.529   1099.748 ]\n",
      " [   -0.4       48.9466   979.4482 22039.7895 43050.2481  1101.9895]\n",
      " [   -0.3       48.9927   978.5956 22083.1748 43093.4828  1104.1587]\n",
      " [   -0.2       49.0374   977.7708 22125.1841 43135.3058  1106.2592]\n",
      " [   -0.1       49.0807   976.9725 22165.8817 43175.7851  1108.2941]\n",
      " [   -0.        49.1225   976.1995 22205.328  43214.9845  1110.2664]\n",
      " [    0.1       49.1631   975.4505 22243.5799 43252.9637  1112.179 ]\n",
      " [    0.2       49.2024   974.7244 22280.6907 43289.7788  1114.0345]\n",
      " [    0.3       49.2406   974.0203 22316.7108 43325.4825  1115.8355]\n",
      " [    0.4       49.2776   973.3371 22351.6874 43360.1244  1117.5844]\n",
      " [    0.5       49.3135   972.674  22385.6653 43393.7512  1119.2833]\n",
      " [    0.6       49.3484   972.03   22418.6866 43426.4069  1120.9343]\n",
      " [    0.7       49.3823   971.4043 22450.791  43458.1328  1122.5396]\n",
      " [    0.8       49.4152   970.7962 22482.0163 43488.9683  1124.1008]\n",
      " [    0.9       49.4472   970.205  22512.3981 43518.9501  1125.6199]]\n"
     ]
    }
   ],
   "source": [
    "a=2000;b=10;sita=6;cm=10;k=1;d=2;\n",
    "dsita2=0.5\n",
    "dsita1=np.arange(-1,1,0.1)\n",
    "d1=sita+dsita1         # 一维数组\n",
    "d2=sita+dsita2         # 数值\n",
    "k1=a*k+b*d         # 数值\n",
    "k2=a*k+4*b*d         # 数值\n",
    "wr1=(a*b*sita*d1+k1*sita*d2+b*cm*d1*d2)/(2*b*d1*d2+k*d2**2)         # 一维数组\n",
    "ws1=(k2*sita*d1+k*d*sita*d2-k*cm*d1*d2)/(2*sita*(2*b*d1+k*d2))         # 一维数组\n",
    "q=(a*sita*d1-d*sita*d2-cm*d1*d2)/(2*sita*(2*b*d1+k*d2))         # 一维数组\n",
    "p=(3*a*b*sita*d1+(2*a*k+b*d)*sita*d2+b*cm*d1*d2)/(2*sita*(2*b*d1+k*d2))         # 一维数组\n",
    "wr2=(a*b*sita*d1+k1*sita*d2+b*cm*d1*d2)/(sita*(2*b*d1+k*d2))         # 一维数组\n",
    "ws2=(k2*sita*d1+k*d*sita*d2-k*cm*d1*d2)/(2.*d1*(2*b*d1+k*d2))         # 一维数组\n",
    "wr3=(a*b*sita*d1+k1*sita*d2+b*cm*d1*d2)/(2*b*d1*d2+k*d2**2)         # 一维数组\n",
    "ws3=(k2*sita*d1+k*d*sita*d2-k*cm*d1*d2)/(2*d1*(2*b*d1+k*d2))         # 一维数组\n",
    "wr4=(a*b*sita*d1+k1*sita*d2+b*cm*d1*d2)/(sita*(2*b*d1+k*d2))         # 一维数组\n",
    "ws4=(k2*sita*d1+k*d*sita*d2-k*cm*d1*d2)/(2*sita*(2*b*d1+k*d2))         # 一维数组\n",
    "r=(p-(wr1*d2)/sita)*q         # 数值\n",
    "m=q*(wr1-ws1*(sita/d1)-cm)         # 一维数组\n",
    "s=(ws1-d-0.5*k*q)*q         # 数值\n",
    "# plt.plot(dsita1,q,'r')\n",
    "np.set_printoptions(precision=4)    # 设置numpy精度,这里是设置out的输出格式\n",
    "np.set_printoptions(suppress=True)  # 设置numpy不用科学计算法\n",
    "matrix1=np.vstack((dsita1, ws1,wr1,r,m,s)).T # 纵向排列\n",
    "# print(matrix1)\n",
    "# 第一种保存方式\n",
    "np.savetxt(\"matrix1.txt\", matrix1,fmt=\"%.4f,  \",newline='\\n')  # 保存为txt文件，这里是设置txt文件中的格式\n",
    "\n",
    "# 第二种保存方式\n",
    "filename = 'matrix1.json'\n",
    "with open(filename,'w') as f_object:\n",
    "    '''json不认numpy的array'''\n",
    "    json.dump(matrix1.tolist(),f_object, indent=3)\n",
    "# 加载json数据\n",
    "with open(filename) as f_object:\n",
    "    matrix = json.load(f_object)\n",
    "matrix = np.array(matrix)\n",
    "print(matrix)"
   ]
  },
  {
   "cell_type": "code",
   "execution_count": 13,
   "metadata": {},
   "outputs": [
    {
     "name": "stdout",
     "output_type": "stream",
     "text": [
      "Help on function dump in module json:\n",
      "\n",
      "dump(obj, fp, *, skipkeys=False, ensure_ascii=True, check_circular=True, allow_nan=True, cls=None, indent=None, separators=None, default=None, sort_keys=False, **kw)\n",
      "    Serialize ``obj`` as a JSON formatted stream to ``fp`` (a\n",
      "    ``.write()``-supporting file-like object).\n",
      "    \n",
      "    If ``skipkeys`` is true then ``dict`` keys that are not basic types\n",
      "    (``str``, ``int``, ``float``, ``bool``, ``None``) will be skipped\n",
      "    instead of raising a ``TypeError``.\n",
      "    \n",
      "    If ``ensure_ascii`` is false, then the strings written to ``fp`` can\n",
      "    contain non-ASCII characters if they appear in strings contained in\n",
      "    ``obj``. Otherwise, all such characters are escaped in JSON strings.\n",
      "    \n",
      "    If ``check_circular`` is false, then the circular reference check\n",
      "    for container types will be skipped and a circular reference will\n",
      "    result in an ``OverflowError`` (or worse).\n",
      "    \n",
      "    If ``allow_nan`` is false, then it will be a ``ValueError`` to\n",
      "    serialize out of range ``float`` values (``nan``, ``inf``, ``-inf``)\n",
      "    in strict compliance of the JSON specification, instead of using the\n",
      "    JavaScript equivalents (``NaN``, ``Infinity``, ``-Infinity``).\n",
      "    \n",
      "    If ``indent`` is a non-negative integer, then JSON array elements and\n",
      "    object members will be pretty-printed with that indent level. An indent\n",
      "    level of 0 will only insert newlines. ``None`` is the most compact\n",
      "    representation.\n",
      "    \n",
      "    If specified, ``separators`` should be an ``(item_separator, key_separator)``\n",
      "    tuple.  The default is ``(', ', ': ')`` if *indent* is ``None`` and\n",
      "    ``(',', ': ')`` otherwise.  To get the most compact JSON representation,\n",
      "    you should specify ``(',', ':')`` to eliminate whitespace.\n",
      "    \n",
      "    ``default(obj)`` is a function that should return a serializable version\n",
      "    of obj or raise TypeError. The default simply raises TypeError.\n",
      "    \n",
      "    If *sort_keys* is true (default: ``False``), then the output of\n",
      "    dictionaries will be sorted by key.\n",
      "    \n",
      "    To use a custom ``JSONEncoder`` subclass (e.g. one that overrides the\n",
      "    ``.default()`` method to serialize additional types), specify it with\n",
      "    the ``cls`` kwarg; otherwise ``JSONEncoder`` is used.\n",
      "\n"
     ]
    }
   ],
   "source": [
    "help(json.dump)"
   ]
  },
  {
   "cell_type": "code",
   "execution_count": null,
   "metadata": {},
   "outputs": [],
   "source": []
  }
 ],
 "metadata": {
  "kernelspec": {
   "display_name": "Python 3",
   "language": "python",
   "name": "python3"
  },
  "language_info": {
   "codemirror_mode": {
    "name": "ipython",
    "version": 3
   },
   "file_extension": ".py",
   "mimetype": "text/x-python",
   "name": "python",
   "nbconvert_exporter": "python",
   "pygments_lexer": "ipython3",
   "version": "3.7.6"
  }
 },
 "nbformat": 4,
 "nbformat_minor": 4
}
